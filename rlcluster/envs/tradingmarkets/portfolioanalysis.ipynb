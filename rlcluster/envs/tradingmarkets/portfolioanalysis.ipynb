{
 "metadata": {
  "language_info": {
   "codemirror_mode": {
    "name": "ipython",
    "version": 3
   },
   "file_extension": ".py",
   "mimetype": "text/x-python",
   "name": "python",
   "nbconvert_exporter": "python",
   "pygments_lexer": "ipython3",
   "version": "3.6.9-final"
  },
  "orig_nbformat": 2,
  "kernelspec": {
   "name": "python3",
   "display_name": "Python 3.6.9 64-bit ('py36': virtualenv)",
   "metadata": {
    "interpreter": {
     "hash": "8b5d95bb716f9d2baf8135d931dcc2797aee320abb5d697ec9c968415e9ec393"
    }
   }
  }
 },
 "nbformat": 4,
 "nbformat_minor": 2,
 "cells": [
  {
   "cell_type": "code",
   "execution_count": 2,
   "metadata": {},
   "outputs": [],
   "source": [
    "import numpy as np, pandas as pd, os, pickle\n",
    "import plotly.graph_objects as go, json\n",
    "import plotly.express as px\n",
    "from functools import reduce\n",
    "from plotly.subplots import make_subplots\n",
    "from glob import glob"
   ]
  },
  {
   "cell_type": "code",
   "execution_count": 3,
   "metadata": {},
   "outputs": [],
   "source": [
    "databasepath = '/home/suraj/Desktop/rlalgorithms/database/assetmarket/'\n",
    "resultpath = '/home/suraj/Desktop/rlalgorithms/results_H730_W003/metadata/'\n",
    "dataname = 'PAM_FS2'\n",
    "stockfile = 'foreignstock2.pkl'\n",
    "datapath = os.path.join(resultpath, dataname)\n",
    "\n",
    "assetnames = pickle.load(open(os.path.join(databasepath, stockfile), 'rb'))[2]\n",
    "algos = [algo for algo in os.listdir(datapath) if '.html' not in algo]\n",
    "algodata = []\n",
    "for algo in algos:\n",
    "    filepath = glob(os.path.join(datapath, algo,'*/*.csv')).pop()\n",
    "    filedata = pd.read_csv(filepath, parse_dates=['timestamp'])\n",
    "    filedata['algoname'] = algo\n",
    "    algodata.append(filedata)\n",
    "\n",
    "algodata = pd.concat(algodata, axis=0)\n",
    "figs = [None]*2"
   ]
  },
  {
   "cell_type": "code",
   "execution_count": 4,
   "metadata": {},
   "outputs": [],
   "source": [
    "transformname = {'timestamp':'Day', 'portfolio_value':'Portfolio value', 'algoname': 'Algorithm'}\n",
    "figs[0] = px.line(algodata, x=\"timestamp\", y=\"portfolio_value\", color='algoname', title='Various PO Strategies', labels=transformname)"
   ]
  },
  {
   "cell_type": "code",
   "execution_count": 5,
   "metadata": {},
   "outputs": [],
   "source": [
    "paframe = algodata[['timestamp', 'algoname', 'weights',]].copy().reset_index(drop=True)\n",
    "paframe = paframe.loc[paframe.timestamp.dt.day==paframe.timestamp.dt.day[0], :].reset_index(drop=True)\n",
    "paframe[f'weight_CASH'] = paframe['weights'].apply(lambda x: json.loads(x)[0])\n",
    "for i, name in enumerate(assetnames):\n",
    "    paframe[f'weight_{name}'] = paframe['weights'].apply(lambda x: json.loads(x)[i+1])\n",
    "paframe.drop(columns=['weights'], inplace=True)\n",
    "paframe = paframe.melt(id_vars=['timestamp', 'algoname'], value_vars=[name for name in paframe.columns if 'weight_' in name], var_name='asset', value_name='weight')\n",
    "paframe.sort_values(['timestamp', 'algoname'], inplace=True)\n",
    "\n",
    "paframe['timestamp'] = paframe['timestamp'].astype(str)\n",
    "paframe['asset'] = paframe['asset'].apply(lambda x: x.replace('weight_', ''))\n",
    "figs[1] = px.bar(paframe, x=\"asset\", y=\"weight\", color=\"algoname\", barmode='group', animation_frame=\"timestamp\", range_y=(0,1), title='Allocation over time')"
   ]
  },
  {
   "cell_type": "code",
   "execution_count": 6,
   "metadata": {},
   "outputs": [],
   "source": [
    "with open(f'{resultpath}/{dataname}.html', 'w') as f:\n",
    "    for fig in figs:\n",
    "        f.write(fig.to_html(full_html=False, include_plotlyjs='cdn'))"
   ]
  },
  {
   "cell_type": "code",
   "execution_count": null,
   "metadata": {},
   "outputs": [],
   "source": []
  },
  {
   "cell_type": "code",
   "execution_count": null,
   "metadata": {},
   "outputs": [],
   "source": []
  }
 ]
}